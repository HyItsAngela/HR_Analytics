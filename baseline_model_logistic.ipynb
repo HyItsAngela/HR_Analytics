{
  "nbformat": 4,
  "nbformat_minor": 0,
  "metadata": {
    "colab": {
      "provenance": []
    },
    "kernelspec": {
      "name": "python3",
      "display_name": "Python 3"
    },
    "language_info": {
      "name": "python"
    }
  },
  "cells": [
    {
      "cell_type": "markdown",
      "source": [
        "# **Summary**\n",
        "This notebook will include a baseline model using the **cleaned dataset from the notebook \"EDA.ipynb\"**. This baseline model will use a cleaned dataset that has *not* been preprocessed (with the exception of one-hot encoding categorical features) and will be fitted onto a simple model, **logistic regression** that establishes a simple, interpretable starting point for predicting employee turnover (Termd). It helps to set a performance benchmark for comparison with more complex models (e.g., Random Forest)."
      ],
      "metadata": {
        "id": "jTPJmS9hVD6C"
      }
    },
    {
      "cell_type": "code",
      "execution_count": 1,
      "metadata": {
        "colab": {
          "base_uri": "https://localhost:8080/"
        },
        "id": "bgpjbbrzUVFG",
        "outputId": "eb858927-e3b8-47f1-b446-5d81325fcc9e"
      },
      "outputs": [
        {
          "output_type": "execute_result",
          "data": {
            "text/plain": [
              "(311, 44)"
            ]
          },
          "metadata": {},
          "execution_count": 1
        }
      ],
      "source": [
        "import pandas as pd\n",
        "import numpy as np\n",
        "import matplotlib.pyplot as plt\n",
        "import seaborn as sns\n",
        "from sklearn.model_selection import train_test_split\n",
        "from sklearn.compose import ColumnTransformer\n",
        "from sklearn.preprocessing import OneHotEncoder\n",
        "from sklearn.pipeline import Pipeline\n",
        "from sklearn.linear_model import LogisticRegression\n",
        "from sklearn.metrics import roc_curve, auc\n",
        "from sklearn.metrics import accuracy_score, classification_report, confusion_matrix, precision_score, recall_score, f1_score, roc_auc_score\n",
        "\n",
        "pd.set_option('display.max_columns', None)\n",
        "df = pd.read_csv(\"cleaned_HRDataset.csv\")\n",
        "df.shape"
      ]
    },
    {
      "cell_type": "code",
      "source": [
        "col_drop = ['EmpID', 'Employee_Name', 'DOB', 'Zip', 'State', 'DateofHire', 'DateofTermination', 'LastPerformanceReview_Date',\n",
        "            'TermReason', 'EmploymentStatus', 'EmpStatusID']\n",
        "df = df.drop(col_drop, axis=1)\n",
        "\n",
        "df.head(2)"
      ],
      "metadata": {
        "colab": {
          "base_uri": "https://localhost:8080/",
          "height": 167
        },
        "id": "6cl0LiQJVJxa",
        "outputId": "858f5b97-0859-488b-c357-c99dff08da3f"
      },
      "execution_count": 2,
      "outputs": [
        {
          "output_type": "execute_result",
          "data": {
            "text/plain": [
              "   MarriedID  MaritalStatusID  GenderID  DeptID  PerfScoreID  \\\n",
              "0          0                0         1       5            4   \n",
              "1          1                1         1       3            3   \n",
              "\n",
              "   FromDiversityJobFairID  Salary  Termd  PositionID                 Position  \\\n",
              "0                       0   62506      0          19  Production Technician I   \n",
              "1                       0  104437      1          27                  Sr. DBA   \n",
              "\n",
              "  Sex MaritalDesc CitizenDesc HispanicLatino RaceDesc  Department  \\\n",
              "0   M      Single  US Citizen             No    White  Production   \n",
              "1   M     Married  US Citizen             No    White       IT/IS   \n",
              "\n",
              "      ManagerName  ManagerID RecruitmentSource PerformanceScore  \\\n",
              "0  Michael Albert       22.0          LinkedIn          Exceeds   \n",
              "1      Simon Roup        4.0            Indeed      Fully Meets   \n",
              "\n",
              "   EngagementSurvey  EmpSatisfaction  SpecialProjectsCount  DaysLateLast30  \\\n",
              "0              4.60                5                     0               0   \n",
              "1              4.96                3                     6               0   \n",
              "\n",
              "   Absences  Age    Tenure DiversityStatus  DeptAverageSalary  \\\n",
              "0         1   36  8.490075     Non-Diverse       59967.788462   \n",
              "1        17   44  1.215606     Non-Diverse       97064.640000   \n",
              "\n",
              "   Salary_Dept_Ratio  DeptAveragePerfScore  PerformanceStandard  \\\n",
              "0           1.042326              2.980769                    1   \n",
              "1           1.075953              3.060000                    0   \n",
              "\n",
              "   DaysSinceLastReview  \n",
              "0                  348  \n",
              "1                  113  "
            ],
            "text/html": [
              "\n",
              "  <div id=\"df-912fd7f6-674a-492d-acf3-ba5700b64d40\" class=\"colab-df-container\">\n",
              "    <div>\n",
              "<style scoped>\n",
              "    .dataframe tbody tr th:only-of-type {\n",
              "        vertical-align: middle;\n",
              "    }\n",
              "\n",
              "    .dataframe tbody tr th {\n",
              "        vertical-align: top;\n",
              "    }\n",
              "\n",
              "    .dataframe thead th {\n",
              "        text-align: right;\n",
              "    }\n",
              "</style>\n",
              "<table border=\"1\" class=\"dataframe\">\n",
              "  <thead>\n",
              "    <tr style=\"text-align: right;\">\n",
              "      <th></th>\n",
              "      <th>MarriedID</th>\n",
              "      <th>MaritalStatusID</th>\n",
              "      <th>GenderID</th>\n",
              "      <th>DeptID</th>\n",
              "      <th>PerfScoreID</th>\n",
              "      <th>FromDiversityJobFairID</th>\n",
              "      <th>Salary</th>\n",
              "      <th>Termd</th>\n",
              "      <th>PositionID</th>\n",
              "      <th>Position</th>\n",
              "      <th>Sex</th>\n",
              "      <th>MaritalDesc</th>\n",
              "      <th>CitizenDesc</th>\n",
              "      <th>HispanicLatino</th>\n",
              "      <th>RaceDesc</th>\n",
              "      <th>Department</th>\n",
              "      <th>ManagerName</th>\n",
              "      <th>ManagerID</th>\n",
              "      <th>RecruitmentSource</th>\n",
              "      <th>PerformanceScore</th>\n",
              "      <th>EngagementSurvey</th>\n",
              "      <th>EmpSatisfaction</th>\n",
              "      <th>SpecialProjectsCount</th>\n",
              "      <th>DaysLateLast30</th>\n",
              "      <th>Absences</th>\n",
              "      <th>Age</th>\n",
              "      <th>Tenure</th>\n",
              "      <th>DiversityStatus</th>\n",
              "      <th>DeptAverageSalary</th>\n",
              "      <th>Salary_Dept_Ratio</th>\n",
              "      <th>DeptAveragePerfScore</th>\n",
              "      <th>PerformanceStandard</th>\n",
              "      <th>DaysSinceLastReview</th>\n",
              "    </tr>\n",
              "  </thead>\n",
              "  <tbody>\n",
              "    <tr>\n",
              "      <th>0</th>\n",
              "      <td>0</td>\n",
              "      <td>0</td>\n",
              "      <td>1</td>\n",
              "      <td>5</td>\n",
              "      <td>4</td>\n",
              "      <td>0</td>\n",
              "      <td>62506</td>\n",
              "      <td>0</td>\n",
              "      <td>19</td>\n",
              "      <td>Production Technician I</td>\n",
              "      <td>M</td>\n",
              "      <td>Single</td>\n",
              "      <td>US Citizen</td>\n",
              "      <td>No</td>\n",
              "      <td>White</td>\n",
              "      <td>Production</td>\n",
              "      <td>Michael Albert</td>\n",
              "      <td>22.0</td>\n",
              "      <td>LinkedIn</td>\n",
              "      <td>Exceeds</td>\n",
              "      <td>4.60</td>\n",
              "      <td>5</td>\n",
              "      <td>0</td>\n",
              "      <td>0</td>\n",
              "      <td>1</td>\n",
              "      <td>36</td>\n",
              "      <td>8.490075</td>\n",
              "      <td>Non-Diverse</td>\n",
              "      <td>59967.788462</td>\n",
              "      <td>1.042326</td>\n",
              "      <td>2.980769</td>\n",
              "      <td>1</td>\n",
              "      <td>348</td>\n",
              "    </tr>\n",
              "    <tr>\n",
              "      <th>1</th>\n",
              "      <td>1</td>\n",
              "      <td>1</td>\n",
              "      <td>1</td>\n",
              "      <td>3</td>\n",
              "      <td>3</td>\n",
              "      <td>0</td>\n",
              "      <td>104437</td>\n",
              "      <td>1</td>\n",
              "      <td>27</td>\n",
              "      <td>Sr. DBA</td>\n",
              "      <td>M</td>\n",
              "      <td>Married</td>\n",
              "      <td>US Citizen</td>\n",
              "      <td>No</td>\n",
              "      <td>White</td>\n",
              "      <td>IT/IS</td>\n",
              "      <td>Simon Roup</td>\n",
              "      <td>4.0</td>\n",
              "      <td>Indeed</td>\n",
              "      <td>Fully Meets</td>\n",
              "      <td>4.96</td>\n",
              "      <td>3</td>\n",
              "      <td>6</td>\n",
              "      <td>0</td>\n",
              "      <td>17</td>\n",
              "      <td>44</td>\n",
              "      <td>1.215606</td>\n",
              "      <td>Non-Diverse</td>\n",
              "      <td>97064.640000</td>\n",
              "      <td>1.075953</td>\n",
              "      <td>3.060000</td>\n",
              "      <td>0</td>\n",
              "      <td>113</td>\n",
              "    </tr>\n",
              "  </tbody>\n",
              "</table>\n",
              "</div>\n",
              "    <div class=\"colab-df-buttons\">\n",
              "\n",
              "  <div class=\"colab-df-container\">\n",
              "    <button class=\"colab-df-convert\" onclick=\"convertToInteractive('df-912fd7f6-674a-492d-acf3-ba5700b64d40')\"\n",
              "            title=\"Convert this dataframe to an interactive table.\"\n",
              "            style=\"display:none;\">\n",
              "\n",
              "  <svg xmlns=\"http://www.w3.org/2000/svg\" height=\"24px\" viewBox=\"0 -960 960 960\">\n",
              "    <path d=\"M120-120v-720h720v720H120Zm60-500h600v-160H180v160Zm220 220h160v-160H400v160Zm0 220h160v-160H400v160ZM180-400h160v-160H180v160Zm440 0h160v-160H620v160ZM180-180h160v-160H180v160Zm440 0h160v-160H620v160Z\"/>\n",
              "  </svg>\n",
              "    </button>\n",
              "\n",
              "  <style>\n",
              "    .colab-df-container {\n",
              "      display:flex;\n",
              "      gap: 12px;\n",
              "    }\n",
              "\n",
              "    .colab-df-convert {\n",
              "      background-color: #E8F0FE;\n",
              "      border: none;\n",
              "      border-radius: 50%;\n",
              "      cursor: pointer;\n",
              "      display: none;\n",
              "      fill: #1967D2;\n",
              "      height: 32px;\n",
              "      padding: 0 0 0 0;\n",
              "      width: 32px;\n",
              "    }\n",
              "\n",
              "    .colab-df-convert:hover {\n",
              "      background-color: #E2EBFA;\n",
              "      box-shadow: 0px 1px 2px rgba(60, 64, 67, 0.3), 0px 1px 3px 1px rgba(60, 64, 67, 0.15);\n",
              "      fill: #174EA6;\n",
              "    }\n",
              "\n",
              "    .colab-df-buttons div {\n",
              "      margin-bottom: 4px;\n",
              "    }\n",
              "\n",
              "    [theme=dark] .colab-df-convert {\n",
              "      background-color: #3B4455;\n",
              "      fill: #D2E3FC;\n",
              "    }\n",
              "\n",
              "    [theme=dark] .colab-df-convert:hover {\n",
              "      background-color: #434B5C;\n",
              "      box-shadow: 0px 1px 3px 1px rgba(0, 0, 0, 0.15);\n",
              "      filter: drop-shadow(0px 1px 2px rgba(0, 0, 0, 0.3));\n",
              "      fill: #FFFFFF;\n",
              "    }\n",
              "  </style>\n",
              "\n",
              "    <script>\n",
              "      const buttonEl =\n",
              "        document.querySelector('#df-912fd7f6-674a-492d-acf3-ba5700b64d40 button.colab-df-convert');\n",
              "      buttonEl.style.display =\n",
              "        google.colab.kernel.accessAllowed ? 'block' : 'none';\n",
              "\n",
              "      async function convertToInteractive(key) {\n",
              "        const element = document.querySelector('#df-912fd7f6-674a-492d-acf3-ba5700b64d40');\n",
              "        const dataTable =\n",
              "          await google.colab.kernel.invokeFunction('convertToInteractive',\n",
              "                                                    [key], {});\n",
              "        if (!dataTable) return;\n",
              "\n",
              "        const docLinkHtml = 'Like what you see? Visit the ' +\n",
              "          '<a target=\"_blank\" href=https://colab.research.google.com/notebooks/data_table.ipynb>data table notebook</a>'\n",
              "          + ' to learn more about interactive tables.';\n",
              "        element.innerHTML = '';\n",
              "        dataTable['output_type'] = 'display_data';\n",
              "        await google.colab.output.renderOutput(dataTable, element);\n",
              "        const docLink = document.createElement('div');\n",
              "        docLink.innerHTML = docLinkHtml;\n",
              "        element.appendChild(docLink);\n",
              "      }\n",
              "    </script>\n",
              "  </div>\n",
              "\n",
              "\n",
              "    <div id=\"df-2f9566f9-ed0c-41cd-8924-e49d200a4aa0\">\n",
              "      <button class=\"colab-df-quickchart\" onclick=\"quickchart('df-2f9566f9-ed0c-41cd-8924-e49d200a4aa0')\"\n",
              "                title=\"Suggest charts\"\n",
              "                style=\"display:none;\">\n",
              "\n",
              "<svg xmlns=\"http://www.w3.org/2000/svg\" height=\"24px\"viewBox=\"0 0 24 24\"\n",
              "     width=\"24px\">\n",
              "    <g>\n",
              "        <path d=\"M19 3H5c-1.1 0-2 .9-2 2v14c0 1.1.9 2 2 2h14c1.1 0 2-.9 2-2V5c0-1.1-.9-2-2-2zM9 17H7v-7h2v7zm4 0h-2V7h2v10zm4 0h-2v-4h2v4z\"/>\n",
              "    </g>\n",
              "</svg>\n",
              "      </button>\n",
              "\n",
              "<style>\n",
              "  .colab-df-quickchart {\n",
              "      --bg-color: #E8F0FE;\n",
              "      --fill-color: #1967D2;\n",
              "      --hover-bg-color: #E2EBFA;\n",
              "      --hover-fill-color: #174EA6;\n",
              "      --disabled-fill-color: #AAA;\n",
              "      --disabled-bg-color: #DDD;\n",
              "  }\n",
              "\n",
              "  [theme=dark] .colab-df-quickchart {\n",
              "      --bg-color: #3B4455;\n",
              "      --fill-color: #D2E3FC;\n",
              "      --hover-bg-color: #434B5C;\n",
              "      --hover-fill-color: #FFFFFF;\n",
              "      --disabled-bg-color: #3B4455;\n",
              "      --disabled-fill-color: #666;\n",
              "  }\n",
              "\n",
              "  .colab-df-quickchart {\n",
              "    background-color: var(--bg-color);\n",
              "    border: none;\n",
              "    border-radius: 50%;\n",
              "    cursor: pointer;\n",
              "    display: none;\n",
              "    fill: var(--fill-color);\n",
              "    height: 32px;\n",
              "    padding: 0;\n",
              "    width: 32px;\n",
              "  }\n",
              "\n",
              "  .colab-df-quickchart:hover {\n",
              "    background-color: var(--hover-bg-color);\n",
              "    box-shadow: 0 1px 2px rgba(60, 64, 67, 0.3), 0 1px 3px 1px rgba(60, 64, 67, 0.15);\n",
              "    fill: var(--button-hover-fill-color);\n",
              "  }\n",
              "\n",
              "  .colab-df-quickchart-complete:disabled,\n",
              "  .colab-df-quickchart-complete:disabled:hover {\n",
              "    background-color: var(--disabled-bg-color);\n",
              "    fill: var(--disabled-fill-color);\n",
              "    box-shadow: none;\n",
              "  }\n",
              "\n",
              "  .colab-df-spinner {\n",
              "    border: 2px solid var(--fill-color);\n",
              "    border-color: transparent;\n",
              "    border-bottom-color: var(--fill-color);\n",
              "    animation:\n",
              "      spin 1s steps(1) infinite;\n",
              "  }\n",
              "\n",
              "  @keyframes spin {\n",
              "    0% {\n",
              "      border-color: transparent;\n",
              "      border-bottom-color: var(--fill-color);\n",
              "      border-left-color: var(--fill-color);\n",
              "    }\n",
              "    20% {\n",
              "      border-color: transparent;\n",
              "      border-left-color: var(--fill-color);\n",
              "      border-top-color: var(--fill-color);\n",
              "    }\n",
              "    30% {\n",
              "      border-color: transparent;\n",
              "      border-left-color: var(--fill-color);\n",
              "      border-top-color: var(--fill-color);\n",
              "      border-right-color: var(--fill-color);\n",
              "    }\n",
              "    40% {\n",
              "      border-color: transparent;\n",
              "      border-right-color: var(--fill-color);\n",
              "      border-top-color: var(--fill-color);\n",
              "    }\n",
              "    60% {\n",
              "      border-color: transparent;\n",
              "      border-right-color: var(--fill-color);\n",
              "    }\n",
              "    80% {\n",
              "      border-color: transparent;\n",
              "      border-right-color: var(--fill-color);\n",
              "      border-bottom-color: var(--fill-color);\n",
              "    }\n",
              "    90% {\n",
              "      border-color: transparent;\n",
              "      border-bottom-color: var(--fill-color);\n",
              "    }\n",
              "  }\n",
              "</style>\n",
              "\n",
              "      <script>\n",
              "        async function quickchart(key) {\n",
              "          const quickchartButtonEl =\n",
              "            document.querySelector('#' + key + ' button');\n",
              "          quickchartButtonEl.disabled = true;  // To prevent multiple clicks.\n",
              "          quickchartButtonEl.classList.add('colab-df-spinner');\n",
              "          try {\n",
              "            const charts = await google.colab.kernel.invokeFunction(\n",
              "                'suggestCharts', [key], {});\n",
              "          } catch (error) {\n",
              "            console.error('Error during call to suggestCharts:', error);\n",
              "          }\n",
              "          quickchartButtonEl.classList.remove('colab-df-spinner');\n",
              "          quickchartButtonEl.classList.add('colab-df-quickchart-complete');\n",
              "        }\n",
              "        (() => {\n",
              "          let quickchartButtonEl =\n",
              "            document.querySelector('#df-2f9566f9-ed0c-41cd-8924-e49d200a4aa0 button');\n",
              "          quickchartButtonEl.style.display =\n",
              "            google.colab.kernel.accessAllowed ? 'block' : 'none';\n",
              "        })();\n",
              "      </script>\n",
              "    </div>\n",
              "\n",
              "    </div>\n",
              "  </div>\n"
            ],
            "application/vnd.google.colaboratory.intrinsic+json": {
              "type": "dataframe",
              "variable_name": "df"
            }
          },
          "metadata": {},
          "execution_count": 2
        }
      ]
    },
    {
      "cell_type": "markdown",
      "source": [
        "## **1. Setting up Model**"
      ],
      "metadata": {
        "id": "q7hzqW3nXPxa"
      }
    },
    {
      "cell_type": "code",
      "source": [
        "X = df.drop('Termd', axis=1)\n",
        "y = df['Termd']\n",
        "\n",
        "categorical_cols = X.select_dtypes(include=['object', 'category']).columns.tolist()\n",
        "numerical_cols = X.select_dtypes(include=['number']).columns.tolist()"
      ],
      "metadata": {
        "id": "YtT20O79W-9c"
      },
      "execution_count": 3,
      "outputs": []
    },
    {
      "cell_type": "code",
      "source": [
        "preprocessor = ColumnTransformer(\n",
        "    transformers=[\n",
        "        ('cat', OneHotEncoder(handle_unknown='ignore'), categorical_cols),\n",
        "    ])\n",
        "\n",
        "logreg_pipeline = Pipeline(steps=[\n",
        "    ('preprocessor', preprocessor),\n",
        "    ('classifier', LogisticRegression(random_state=42, max_iter=1000))\n",
        "])\n",
        "\n",
        "X_train, X_test, y_train, y_test = train_test_split(\n",
        "    X, y, test_size=0.2, random_state=42, stratify=y)"
      ],
      "metadata": {
        "id": "fGG8EFGwXTFQ"
      },
      "execution_count": 4,
      "outputs": []
    },
    {
      "cell_type": "markdown",
      "source": [
        "## **2. Train & Predict**"
      ],
      "metadata": {
        "id": "uk_-Xn2ZXaHX"
      }
    },
    {
      "cell_type": "code",
      "source": [
        "logreg_pipeline.fit(X_train, y_train)\n",
        "\n",
        "y_pred = logreg_pipeline.predict(X_test)\n",
        "y_proba = logreg_pipeline.predict_proba(X_test)[:, 1]"
      ],
      "metadata": {
        "id": "7IKehLmVXeQN"
      },
      "execution_count": 5,
      "outputs": []
    },
    {
      "cell_type": "markdown",
      "source": [
        "## **3. Evaluate**"
      ],
      "metadata": {
        "id": "ltwpiJFnX6zQ"
      }
    },
    {
      "cell_type": "code",
      "source": [
        "def model_metrics(preds, y):\n",
        "    print(f'Accuracy: {accuracy_score(preds, y)}')\n",
        "    print(f'Precision: {precision_score(preds, y)}')\n",
        "    print(f'Recall: {recall_score(preds, y)}')\n",
        "    print(f'F1: {f1_score(preds, y)}')\n",
        "    print(f'ROC_AUC: {roc_auc_score(preds, y)}')\n",
        "\n",
        "model_metrics(y_pred, y_test)"
      ],
      "metadata": {
        "colab": {
          "base_uri": "https://localhost:8080/"
        },
        "id": "j76ocjYfXmp9",
        "outputId": "e94cf4e2-1a30-47b1-dbfd-f74955622351"
      },
      "execution_count": 6,
      "outputs": [
        {
          "output_type": "stream",
          "name": "stdout",
          "text": [
            "Accuracy: 0.6666666666666666\n",
            "Precision: 0.38095238095238093\n",
            "Recall: 0.5\n",
            "F1: 0.43243243243243246\n",
            "ROC_AUC: 0.6117021276595744\n"
          ]
        }
      ]
    },
    {
      "cell_type": "code",
      "source": [
        "# Confusion matrix\n",
        "plt.figure(figsize=(6,4))\n",
        "sns.heatmap(confusion_matrix(y_test, y_pred), annot=True, fmt='d', cmap='Blues')\n",
        "plt.title('Confusion Matrix')\n",
        "plt.xlabel('Predicted')\n",
        "plt.ylabel('Actual')\n",
        "plt.show()\n",
        "\n",
        "# ROC Curve\n",
        "fpr, tpr, thresholds = roc_curve(y_test, y_proba)\n",
        "roc_auc = auc(fpr, tpr)\n",
        "\n",
        "plt.figure()\n",
        "plt.plot(fpr, tpr, color='darkorange', lw=2, label=f'ROC curve (area = {roc_auc:.2f})')\n",
        "plt.plot([0, 1], [0, 1], color='navy', lw=2, linestyle='--')\n",
        "plt.xlim([0.0, 1.0])\n",
        "plt.ylim([0.0, 1.05])\n",
        "plt.xlabel('False Positive Rate')\n",
        "plt.ylabel('True Positive Rate')\n",
        "plt.title('Receiver Operating Characteristic')\n",
        "plt.legend(loc=\"lower right\")\n",
        "plt.show()"
      ],
      "metadata": {
        "colab": {
          "base_uri": "https://localhost:8080/",
          "height": 865
        },
        "id": "IcGTk_QCYvJq",
        "outputId": "04a4efda-b064-4e68-f5be-195f3ec91e67"
      },
      "execution_count": 7,
      "outputs": [
        {
          "output_type": "display_data",
          "data": {
            "text/plain": [
              "<Figure size 600x400 with 2 Axes>"
            ],
            "image/png": "[encoded data removed]"
          },
          "metadata": {}
        },
        {
          "output_type": "display_data",
          "data": {
            "text/plain": [
              "<Figure size 640x480 with 1 Axes>"
            ],
            "image/png": "[encoded data removed]"
          },
          "metadata": {}
        }
      ]
    },
    {
      "cell_type": "code",
      "source": [
        "try:\n",
        "    cat_features = (logreg_pipeline.named_steps['preprocessor']\n",
        "                   .named_transformers_['cat']\n",
        "                   .get_feature_names_out(categorical_cols))\n",
        "\n",
        "    num_features = numerical_cols\n",
        "    feature_names = np.concatenate([cat_features, num_features])\n",
        "    coefficients = logreg_pipeline.named_steps['classifier'].coef_[0]\n",
        "\n",
        "    if len(feature_names) != len(coefficients):\n",
        "        print(f\"Warning: {len(feature_names)} features vs {len(coefficients)} coefficients\")\n",
        "        feature_names = feature_names[:len(coefficients)]\n",
        "\n",
        "    coef_df = pd.DataFrame({'Feature': feature_names, 'Coefficient': coefficients})\n",
        "    coef_df = coef_df.sort_values(by='Coefficient', ascending=False)\n",
        "\n",
        "    print(\"\\nTop Predictive Features:\")\n",
        "    print(coef_df.head(10))\n",
        "\n",
        "except Exception as e:\n",
        "    print(f\"Error generating coefficients: {str(e)}\")"
      ],
      "metadata": {
        "colab": {
          "base_uri": "https://localhost:8080/"
        },
        "id": "g2sxXommXw5l",
        "outputId": "2ace89ec-9389-4a33-874d-884a85668a57"
      },
      "execution_count": 8,
      "outputs": [
        {
          "output_type": "stream",
          "name": "stdout",
          "text": [
            "Warning: 109 features vs 88 coefficients\n",
            "\n",
            "Top Predictive Features:\n",
            "                                 Feature  Coefficient\n",
            "71                ManagerName_Simon Roup     1.448701\n",
            "53                  ManagerName_Amy Dunn     1.325245\n",
            "76       RecruitmentSource_Google Search     0.844784\n",
            "74  RecruitmentSource_Diversity Job Fair     0.790840\n",
            "84    PerformanceScore_Needs Improvement     0.765089\n",
            "73       RecruitmentSource_CareerBuilder     0.760186\n",
            "20     Position_Production Technician II     0.655299\n",
            "9        Position_Database Administrator     0.649474\n",
            "35                   MaritalDesc_Widowed     0.641515\n",
            "72            ManagerName_Webster Butler     0.628914\n"
          ]
        }
      ]
    },
    {
      "cell_type": "markdown",
      "source": [
        "## **4. Conclusion**\n",
        "The baseline model has **moderate performance (Accuracy: 67%, ROC AUC: 0.61)**, indicating the model is correctly classifying about 67% of the instances and there is room for improvement.\n",
        "\n",
        "A **precision of 0.38** means that only 38% of instances predicted as positive by the model are actually positive. Additionally, a **recall of 0.5** means that model is correctly identifying 50% of the actual positive instances. The model is missing half of the true positives.\n",
        "\n",
        "This model is dealing with a class imbalance, indicating the F1-score is a more accurate metric of how the model is performing. The **f1-score of 0.43** indicates the model is not doing well balancing the precision and recall as seen above.\n",
        "\n",
        "**Overall, the model has a moderate accuracy but is struggling with positive class prediction.** Potential improvement by:\n",
        "\n",
        "- **Feature selection/engineering** to reduce dimensionality and address multicollinearity\n",
        "- **Address class imbalance**\n",
        "\n",
        "**Important Features:**\n",
        "- **1. Manager Impact:**\n",
        "  - Employees under Simon Roup, Amy Dunn, and Webster Butler show significantly higher turnover risk.\n",
        "  - Investigate managerial practices/team dynamics for these leaders.\n",
        "- **2. Recruitment Source:**\n",
        "  - Hires from Google Search and Diversity Job Fairs correlate with turnover.\n",
        "- **3. Performance & Role Risks:**\n",
        "  - Employees in \"Needs Improvement\" performance category and roles like Production Technician II are higher risk.\n",
        "  - Target retention efforts (training programs) for those department and positions."
      ],
      "metadata": {
        "id": "2wWZEc8BaBLc"
      }
    },
    {
      "cell_type": "code",
      "source": [],
      "metadata": {
        "id": "5Sex4m2VaFLa"
      },
      "execution_count": null,
      "outputs": []
    }
  ]
}